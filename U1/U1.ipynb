{
 "cells": [
  {
   "cell_type": "markdown",
   "metadata": {},
   "source": [
    "# ÜBUNGSBLATT I"
   ]
  },
  {
   "cell_type": "markdown",
   "metadata": {},
   "source": [
    "Bitte bearbeiten Sie die Übungsblätter selbständig allein oder in der Gruppe. Die Aufgaben 1-9 sind zum Aufwärmen gedacht und werden nicht in der Vorlesung behandelt. Ab Aufgabe 10 sind die Aufgaben klausurzulassungsrelevant und Sie können diese dann auf der Ankreuzliste in der Vorlesung ankreuzen, wenn Sie diese bearbeitet haben und vorführen können."
   ]
  },
  {
   "cell_type": "markdown",
   "metadata": {},
   "source": [
    "# Aufgabe 1"
   ]
  },
  {
   "cell_type": "markdown",
   "metadata": {},
   "source": [
    "**a)** Starten Sie MATLAB und verschaffen Sie sich mit dem Befehl ``ver`` im Kommandofenster (Command Window) eine Übersicht über die verfügbaren MATLAB-Komponenten."
   ]
  },
  {
   "cell_type": "code",
   "execution_count": 1,
   "metadata": {},
   "outputs": [
    {
     "name": "stdout",
     "output_type": "stream",
     "text": [
      "-----------------------------------------------------------------------------------------------------\n",
      "MATLAB Version: 24.1.0.2578822 (R2024a) Update 2\n",
      "MATLAB License Number: 1142479\n",
      "Operating System: Microsoft Windows 11 Education Version 10.0 (Build 22631)\n",
      "Java Version: Java 1.8.0_202-b08 with Oracle Corporation Java HotSpot(TM) 64-Bit Server VM mixed mode\n",
      "-----------------------------------------------------------------------------------------------------\n",
      "MATLAB                                                Version 24.1        (R2024a)\n",
      "Symbolic Math Toolbox                                 Version 24.1        (R2024a)\n"
     ]
    }
   ],
   "source": [
    "ver"
   ]
  },
  {
   "cell_type": "markdown",
   "metadata": {},
   "source": [
    "**b)** Wechseln Sie mit dem Pathbrowser (Button) in Ihr Arbeitsverzeichnis, das Sie sich selbst angelegt haben. Das Arbeitsverzeichnis werden die Files gespeichert werden, die Sie sich selbst erstellen. MATLAB-Programm-Files haben die Endung ``*.m``."
   ]
  },
  {
   "cell_type": "markdown",
   "metadata": {},
   "source": [
    "**c)** Überlegen Sie, ob Sie das Arbeitsverzeichnis dem Suchpfad von MATLAB angliedern wollen (Reiter Home -> Set path). Sonst wird MATLAB Ihre Files nicht finden, wenn das Arbeitsverzeichnisses (Currrent Folder) nicht gerade das aktuelle Verzeichnis ist."
   ]
  },
  {
   "cell_type": "markdown",
   "metadata": {},
   "source": [
    "**d)** Lassen Sie sich mit dem Befehl ``dir`` den Inhalt des Arbeitsverzeichnisses (Current Folder) im Kommandofenster anzeigen."
   ]
  },
  {
   "cell_type": "code",
   "execution_count": 2,
   "metadata": {},
   "outputs": [
    {
     "name": "stdout",
     "output_type": "stream",
     "text": [
      "\n",
      ".          ..         .git       README.md  U1         U2         U3         U4         \n",
      "\n"
     ]
    }
   ],
   "source": [
    "dir"
   ]
  },
  {
   "cell_type": "markdown",
   "metadata": {},
   "source": [
    "# Aufgabe 2"
   ]
  },
  {
   "cell_type": "markdown",
   "metadata": {},
   "source": [
    "**a)** Definieren Sie die Variable $a = 2000/3$ und stellen Sie diese in den folgenden Formaten dar:\n",
    "* 4 Stellen nach dem Komma,\n",
    "* 14 Stellen nach dem Komma,\n",
    "* Exponentialdarstellung mit 4 Stellen nach dem Komma."
   ]
  },
  {
   "cell_type": "code",
   "execution_count": 5,
   "metadata": {},
   "outputs": [
    {
     "data": {
      "text/html": [
       "<html><body><pre>a = 666.6667</pre></body></html>"
      ],
      "text/plain": [
       "a = 666.6667"
      ]
     },
     "execution_count": 5,
     "metadata": {},
     "output_type": "execute_result"
    },
    {
     "data": {
      "text/html": [
       "<html><body><pre>a = \n",
       "     6.666666666666666e+02\n",
       "</pre></body></html>"
      ],
      "text/plain": [
       "a = \n",
       "     6.666666666666666e+02\n"
      ]
     },
     "execution_count": 5,
     "metadata": {},
     "output_type": "execute_result"
    },
    {
     "data": {
      "text/html": [
       "<html><body><pre>a = \n",
       "   666.6667e+000\n",
       "</pre></body></html>"
      ],
      "text/plain": [
       "a = \n",
       "   666.6667e+000\n"
      ]
     },
     "execution_count": 5,
     "metadata": {},
     "output_type": "execute_result"
    },
    {
     "name": "stdout",
     "output_type": "stream",
     "text": [
      "Four dezimals: \t\t666.6667\n",
      "Fourteen dezimals: \t666.66666666666663\n",
      "Engineering: \t\t6.6667e+02"
     ]
    }
   ],
   "source": [
    "clear all;\n",
    "a = 2000/3;\n",
    "\n",
    "% format short is matlabs default. it outputs 4 decimals\n",
    "format short\n",
    "a\n",
    "\n",
    "% format long outputs 15 digits for double precision and 7 for single precision\n",
    "format long\n",
    "a\n",
    "\n",
    "% format shortEng outputs 4 decimals in engineering notation i.e. exponents in multiples of 3\n",
    "format shortEng\n",
    "a\n",
    "\n",
    "% Alternative\n",
    "\n",
    "fprintf(\"Four dezimals: \\t\\t%.4f\\n\",a)\n",
    "fprintf(\"Fourteen dezimals: \\t%.14f\\n\",a)\n",
    "fprintf(\"Engineering: \\t\\t%.4e\",a)"
   ]
  },
  {
   "cell_type": "markdown",
   "metadata": {},
   "source": [
    "**b)** Verfahren Sie ebenso mit der Zahl $\\pi$, die als Variable mit dem Namen ``pi`` bereits vordefiniert ist."
   ]
  },
  {
   "cell_type": "code",
   "execution_count": 12,
   "metadata": {},
   "outputs": [
    {
     "name": "stdout",
     "output_type": "stream",
     "text": [
      "Short: \t\t3.1416\n",
      "long: \t\t3.14159265358979\n",
      "shortEng: \t3.1416e+00\n"
     ]
    }
   ],
   "source": [
    "variableOutputer(pi)\n",
    "\n",
    "function out = variableOutputer(a)\n",
    "    % format short\n",
    "    fprintf(\"Short: \\t\\t%.4f\\n\", a)\n",
    "    % format long\n",
    "    fprintf(\"long: \\t\\t%.14f\\n\", a)\n",
    "    % format shortEng\n",
    "    fprintf(\"shortEng: \\t%.4e\\n\", a)\n",
    "end"
   ]
  },
  {
   "cell_type": "markdown",
   "metadata": {},
   "source": [
    "**c)** Verfahren Sie ebenso mit den vordefinierten Variablen ``eps``, ``realmin`` und ``realmax``.\n",
    "Ermitteln Sie mit der MATLAB-Hilfe (Befehl ``help`` oder *F1* auf der Tastatur) den Sinn dieser Variablen."
   ]
  },
  {
   "cell_type": "code",
   "execution_count": 13,
   "metadata": {},
   "outputs": [
    {
     "name": "stdout",
     "output_type": "stream",
     "text": [
      "---eps---\n",
      "Short: \t\t0.0000\n",
      "long: \t\t0.00000000000000\n",
      "shortEng: \t2.2204e-16\n",
      "---realmin---\n",
      "Short: \t\t0.0000\n",
      "long: \t\t0.00000000000000\n",
      "shortEng: \t2.2251e-308\n",
      "---realmax---\n",
      "Short: \t\t179769313486231570814527423731704356798070567525844996598917476803157260780028538760589558632766878171540458953514382464234321326889464182768467546703537516986049910576551282076245490090389328944075868508455133942304583236903222948165808559332123348274797826204144723168738177180919299881250404026184124858368.0000\n",
      "long: \t\t179769313486231570814527423731704356798070567525844996598917476803157260780028538760589558632766878171540458953514382464234321326889464182768467546703537516986049910576551282076245490090389328944075868508455133942304583236903222948165808559332123348274797826204144723168738177180919299881250404026184124858368.00000000000000\n",
      "shortEng: \t1.7977e+308\n"
     ]
    }
   ],
   "source": [
    "% returns the distance from 1.0 to the next larger double-precision number, that is, 2**-52\n",
    "fprintf(\"---eps---\\n\")\n",
    "variableOutputer(eps)\n",
    "\n",
    "% smallest normalized floating-point number\n",
    "fprintf(\"---realmin---\\n\")\n",
    "variableOutputer(realmin)\n",
    "\n",
    "% largest normalized floating-point number\n",
    "fprintf(\"---realmax---\\n\")\n",
    "variableOutputer(realmax)\n",
    "\n",
    "function out = variableOutputer(a)\n",
    "    % format short\n",
    "    fprintf(\"Short: \\t\\t%.4f\\n\", a)\n",
    "    % format long\n",
    "    fprintf(\"long: \\t\\t%.14f\\n\", a)\n",
    "    % format shortEng\n",
    "    fprintf(\"shortEng: \\t%.4e\\n\", a)\n",
    "end"
   ]
  },
  {
   "cell_type": "markdown",
   "metadata": {},
   "source": [
    "# Aufgabe 3"
   ]
  },
  {
   "cell_type": "markdown",
   "metadata": {},
   "source": [
    "**a)** Berechnen Sie den Betrag und Argument der komplexen Variablen $z_1 = 3-4.5j$ und $z_2 = \\sqrt{4e^{j\\pi}}$"
   ]
  },
  {
   "cell_type": "code",
   "execution_count": 14,
   "metadata": {},
   "outputs": [
    {
     "name": "stdout",
     "output_type": "stream",
     "text": [
      "Abs z1:\t\t\t5.40833\n",
      "Phase z1:\t\t-0.982794\n",
      "Abs z2:\t\t\t2\n",
      "Phase z2:\t\t1.5708\n"
     ]
    }
   ],
   "source": [
    "clear all;\n",
    "z1 = 3-4.5*j;\n",
    "z2 = sqrt(4*exp(pi*j));\n",
    "\n",
    "fprintf(\"Abs z1:\\t\\t\\t%g\\n\", abs(z1))\n",
    "fprintf(\"Phase z1:\\t\\t%g\\n\", angle(z1))\n",
    "fprintf(\"Abs z2:\\t\\t\\t%g\\n\", abs(z2))\n",
    "fprintf(\"Phase z2:\\t\\t%g\\n\", angle(z2))"
   ]
  },
  {
   "cell_type": "markdown",
   "metadata": {},
   "source": [
    "**b)** Berechnen Sie Realteil und Imaginärteil der komplexen Variablen $z_3 = 9\\,e^{j2.2}$ und $z_4 = \\frac{2+3j}{1-j}$."
   ]
  },
  {
   "cell_type": "code",
   "execution_count": 15,
   "metadata": {},
   "outputs": [
    {
     "name": "stdout",
     "output_type": "stream",
     "text": [
      "z3: Re(-5.29651), Im(7.27647)\n",
      "z4: Re(-0.5), Im(2.5)\n"
     ]
    }
   ],
   "source": [
    "clear all;\n",
    "z3 = 9*exp(2.2*j);\n",
    "z4 = (2+3*j)/(1-j);\n",
    "\n",
    "fprintf(\"z3: Re(%g), Im(%g)\\n\", real(z3), imag(z3))\n",
    "fprintf(\"z4: Re(%g), Im(%g)\\n\", real(z4), imag(z4))"
   ]
  },
  {
   "cell_type": "markdown",
   "metadata": {},
   "source": [
    "# Aufgabe 4"
   ]
  },
  {
   "cell_type": "markdown",
   "metadata": {},
   "source": [
    "**a)** Definieren Sie als Variable ``az`` einen Zeilenvektor mit den Komponenten $(1,\\,1.2,\\,1.4,\\,1.6,\\,1.8,\\,2)$ bzw. unter dem Namen ``as`` als Spaltenvektor auf jeweils verschiedenen Wegen."
   ]
  },
  {
   "cell_type": "code",
   "execution_count": 19,
   "metadata": {},
   "outputs": [
    {
     "name": "stdout",
     "output_type": "stream",
     "text": [
      "    1.0000\n",
      "    1.2000\n",
      "    1.4000\n",
      "    1.6000\n",
      "    1.8000\n",
      "    2.0000\n",
      "\n",
      "    1.0000    1.2000    1.4000    1.6000    1.8000    2.0000\n",
      "\n"
     ]
    }
   ],
   "source": [
    "clear all;\n",
    "% collon operator: startValue:stepSize:endValue\n",
    "az = 1:0.2:2;\n",
    "% linspace(startValue,endValue,nSteps)\n",
    "az = linspace(1,2,6);\n",
    "% manual labor\n",
    "az = [1 1.2 1.4 1.6 1.8 2];\n",
    "% for loop\n",
    "az = [];\n",
    "for i = 0:5\n",
    "    az = [az, 1+i*0.2];\n",
    "end\n",
    "\n",
    "as = transpose(az);\n",
    "as = az.';\n",
    "\n",
    "disp(as)\n",
    "disp(az)"
   ]
  },
  {
   "cell_type": "markdown",
   "metadata": {},
   "source": [
    "**b)** Ändern Sie das 2. Element von ``az`` in $az_2 = 20$."
   ]
  },
  {
   "cell_type": "code",
   "execution_count": 21,
   "metadata": {},
   "outputs": [
    {
     "name": "stdout",
     "output_type": "stream",
     "text": [
      "    1.0000   20.0000    1.4000    1.6000    1.8000    2.0000\n",
      "\n"
     ]
    }
   ],
   "source": [
    "az(2) = 20;\n",
    "disp(az)"
   ]
  },
  {
   "cell_type": "markdown",
   "metadata": {},
   "source": [
    "**c)** Erweitern Sie den Vektor ``az`` um eine weitere Komponente $az_7 = 2,2$. Der neue Vektor soll den Namen ``bz`` erhalten."
   ]
  },
  {
   "cell_type": "code",
   "execution_count": 22,
   "metadata": {},
   "outputs": [
    {
     "name": "stdout",
     "output_type": "stream",
     "text": [
      "    1.0000   20.0000    1.4000    1.6000    1.8000    2.0000    2.2000\n",
      "\n"
     ]
    }
   ],
   "source": [
    "bz = [az, 2.2];\n",
    "disp(bz)"
   ]
  },
  {
   "cell_type": "markdown",
   "metadata": {},
   "source": [
    "**d)** Bilden Sie den Spaltenvektor ``bs``, indem Sie an den Vektor ``as`` noch einmal den Vektor ``as`` anfügen."
   ]
  },
  {
   "cell_type": "code",
   "execution_count": 23,
   "metadata": {},
   "outputs": [
    {
     "name": "stdout",
     "output_type": "stream",
     "text": [
      "    1.0000\n",
      "    1.2000\n",
      "    1.4000\n",
      "    1.6000\n",
      "    1.8000\n",
      "    2.0000\n",
      "    1.0000\n",
      "    1.2000\n",
      "    1.4000\n",
      "    1.6000\n",
      "    1.8000\n",
      "    2.0000\n",
      "\n"
     ]
    }
   ],
   "source": [
    "bs = [as.', as.'].';\n",
    "% better: semicolon denominates next row whereas comma denotes the next column\n",
    "bs = [as; as];\n",
    "disp(bs)"
   ]
  },
  {
   "cell_type": "markdown",
   "metadata": {},
   "source": [
    "# Aufgabe 5"
   ]
  },
  {
   "cell_type": "markdown",
   "metadata": {},
   "source": [
    "**a)** Definieren Sie als Variable ``A`` eine Matrix mit den Komponenten\n",
    "$$\\begin{pmatrix}1 & 2 & 3 & 4\\\\5 & 6 & 7 & 8\\\\9 & 10 & 11 & 12\\end{pmatrix}$$\n",
    "wieder auf verschiedenen Wegen."
   ]
  },
  {
   "cell_type": "code",
   "execution_count": 31,
   "metadata": {},
   "outputs": [
    {
     "data": {
      "text/html": [
       "<html><body><pre>A = 3x4 double\n",
       "     1     2     3     4\n",
       "     5     6     7     8\n",
       "     9    10    11    12\n",
       "</pre></body></html>"
      ],
      "text/plain": [
       "A = 3x4 double\n",
       "     1     2     3     4\n",
       "     5     6     7     8\n",
       "     9    10    11    12\n"
      ]
     },
     "execution_count": 31,
     "metadata": {},
     "output_type": "execute_result"
    }
   ],
   "source": [
    "clear all;\n",
    "% manual labor\n",
    "A = [[1 2 3 4];[5 6 7 8];[9 10 11 12]];\n",
    "% using linspace reshape()ing\n",
    "A = linspace(1,12,12);\n",
    "A = reshape(A, [4 3]).'"
   ]
  },
  {
   "cell_type": "markdown",
   "metadata": {},
   "source": [
    "**b)** Ordnen Sie das Element ``A(2,3)`` einer Variablen ``a23`` zu."
   ]
  },
  {
   "cell_type": "code",
   "execution_count": 29,
   "metadata": {},
   "outputs": [
    {
     "data": {
      "text/html": [
       "<html><body><pre>a23 = 7</pre></body></html>"
      ],
      "text/plain": [
       "a23 = 7"
      ]
     },
     "execution_count": 29,
     "metadata": {},
     "output_type": "execute_result"
    }
   ],
   "source": [
    "a23 = A(2,3)"
   ]
  },
  {
   "cell_type": "markdown",
   "metadata": {},
   "source": [
    "**c)** Ordnen Sie die 3. Zeile der Matrix ``A`` einer Variablen ``z3`` zu."
   ]
  },
  {
   "cell_type": "code",
   "execution_count": 32,
   "metadata": {},
   "outputs": [
    {
     "data": {
      "text/html": [
       "<html><body><pre>z3 = 1x4 double\n",
       "     9    10    11    12\n",
       "</pre></body></html>"
      ],
      "text/plain": [
       "z3 = 1x4 double\n",
       "     9    10    11    12\n"
      ]
     },
     "execution_count": 32,
     "metadata": {},
     "output_type": "execute_result"
    }
   ],
   "source": [
    "z3 = A(3,:)"
   ]
  },
  {
   "cell_type": "markdown",
   "metadata": {},
   "source": [
    "**d)** Erproben Sie die Befehle ``zeros(3,4)``, ``ones(3,3)``, ``rand(4)`` und ``magic(5)`` (Zahlenargumente beliebig) zur Bildung spezieller Matrix-Variablen."
   ]
  },
  {
   "cell_type": "code",
   "execution_count": 34,
   "metadata": {},
   "outputs": [
    {
     "data": {
      "text/html": [
       "<html><body><pre>zero = 2x3 double\n",
       "     0     0     0\n",
       "     0     0     0\n",
       "</pre></body></html>"
      ],
      "text/plain": [
       "zero = 2x3 double\n",
       "     0     0     0\n",
       "     0     0     0\n"
      ]
     },
     "execution_count": 34,
     "metadata": {},
     "output_type": "execute_result"
    },
    {
     "data": {
      "text/html": [
       "<html><body><pre>one = 2x3 double\n",
       "     1     1     1\n",
       "     1     1     1\n",
       "</pre></body></html>"
      ],
      "text/plain": [
       "one = 2x3 double\n",
       "     1     1     1\n",
       "     1     1     1\n"
      ]
     },
     "execution_count": 34,
     "metadata": {},
     "output_type": "execute_result"
    },
    {
     "data": {
      "text/html": [
       "<html><body><pre>random = 2x3 double\n",
       "    0.8128    0.2695    0.8330\n",
       "    0.6974    0.5896    0.3638\n",
       "</pre></body></html>"
      ],
      "text/plain": [
       "random = 2x3 double\n",
       "    0.8128    0.2695    0.8330\n",
       "    0.6974    0.5896    0.3638\n"
      ]
     },
     "execution_count": 34,
     "metadata": {},
     "output_type": "execute_result"
    },
    {
     "data": {
      "text/html": [
       "<html><body><pre>mag = 3x3 double\n",
       "     8     1     6\n",
       "     3     5     7\n",
       "     4     9     2\n",
       "</pre></body></html>"
      ],
      "text/plain": [
       "mag = 3x3 double\n",
       "     8     1     6\n",
       "     3     5     7\n",
       "     4     9     2\n"
      ]
     },
     "execution_count": 34,
     "metadata": {},
     "output_type": "execute_result"
    }
   ],
   "source": [
    "% generate matrix filled with [n,m] zeros\n",
    "zero = zeros(2,3)\n",
    "\n",
    "% generate matrix filled with [n,m] ones\n",
    "one = ones(2,3)\n",
    "\n",
    "% generate matrix filled with [n,m] random numbers in the range 0:1\n",
    "random = rand(2,3)\n",
    "\n",
    "% generate matrix filled with [n,n] numbers from 1 to n**2 distributed in a way such that the sum over each row and column is the same\n",
    "mag = magic(3)"
   ]
  },
  {
   "cell_type": "markdown",
   "metadata": {},
   "source": [
    "# Aufgabe 6"
   ]
  },
  {
   "cell_type": "markdown",
   "metadata": {},
   "source": [
    "Definieren Sie die folgenden Matrizen bzw. Vektoren und ordnen Sie diesen entsprechenden Variablen zu:\n",
    "\n",
    "$$M = \\begin{pmatrix}1 & 0 & 0\\\\0 & j & 1\\\\j & j+1 & -3\\end{pmatrix} \\qquad \\vec{v} = \\begin{pmatrix}1\\\\ 3\\\\ -7\\\\ -0.5\\end{pmatrix} \\qquad \\vec{w} = \\begin{pmatrix}1 & -5.5 & -1.7 & -1.5 & 3 & -10.7\\end{pmatrix} \\qquad \\vec{z} = \\begin{pmatrix}1 & 1.5 & 2 & 2.5 & \\dots & 100\\end{pmatrix}$$"
   ]
  },
  {
   "cell_type": "code",
   "execution_count": 35,
   "metadata": {},
   "outputs": [],
   "source": [
    "clear all;\n",
    "M = [[1 0 0];[0 j 1];[j j+1 -3]];\n",
    "v = [1 3 -7 -.5].';\n",
    "w = [1 -5.5 -1.7 -1.5 3 -10.7];\n",
    "z = 1:.5:100;"
   ]
  },
  {
   "cell_type": "markdown",
   "metadata": {},
   "source": [
    "# Aufgabe 7"
   ]
  },
  {
   "cell_type": "markdown",
   "metadata": {},
   "source": [
    "**a)** Erweitern Sie die Matrix $M$ so zu einer 6x6-Matrix $V$, dass sie die Form\n",
    "$$V = \\begin{pmatrix}M&M\\\\M&M\\end{pmatrix}$$\n",
    "erhält."
   ]
  },
  {
   "cell_type": "code",
   "execution_count": 37,
   "metadata": {},
   "outputs": [
    {
     "data": {
      "text/html": [
       "<html><body><pre>V = \n",
       "   1.0000 + 0.0000i   0.0000 + 0.0000i   0.0000 + 0.0000i   1.0000 + 0.0000i   0.0000 + 0.0000i   0.0000 + 0.0000i\n",
       "   0.0000 + 0.0000i   0.0000 + 1.0000i   1.0000 + 0.0000i   0.0000 + 0.0000i   0.0000 + 1.0000i   1.0000 + 0.0000i\n",
       "   0.0000 + 1.0000i   1.0000 + 1.0000i  -3.0000 + 0.0000i   0.0000 + 1.0000i   1.0000 + 1.0000i  -3.0000 + 0.0000i\n",
       "   1.0000 + 0.0000i   0.0000 + 0.0000i   0.0000 + 0.0000i   1.0000 + 0.0000i   0.0000 + 0.0000i   0.0000 + 0.0000i\n",
       "   0.0000 + 0.0000i   0.0000 + 1.0000i   1.0000 + 0.0000i   0.0000 + 0.0000i   0.0000 + 1.0000i   1.0000 + 0.0000i\n",
       "   0.0000 + 1.0000i   1.0000 + 1.0000i  -3.0000 + 0.0000i   0.0000 + 1.0000i   1.0000 + 1.0000i  -3.0000 + 0.0000i\n",
       "</pre></body></html>"
      ],
      "text/plain": [
       "V = \n",
       "   1.0000 + 0.0000i   0.0000 + 0.0000i   0.0000 + 0.0000i   1.0000 + 0.0000i   0.0000 + 0.0000i   0.0000 + 0.0000i\n",
       "   0.0000 + 0.0000i   0.0000 + 1.0000i   1.0000 + 0.0000i   0.0000 + 0.0000i   0.0000 + 1.0000i   1.0000 + 0.0000i\n",
       "   0.0000 + 1.0000i   1.0000 + 1.0000i  -3.0000 + 0.0000i   0.0000 + 1.0000i   1.0000 + 1.0000i  -3.0000 + 0.0000i\n",
       "   1.0000 + 0.0000i   0.0000 + 0.0000i   0.0000 + 0.0000i   1.0000 + 0.0000i   0.0000 + 0.0000i   0.0000 + 0.0000i\n",
       "   0.0000 + 0.0000i   0.0000 + 1.0000i   1.0000 + 0.0000i   0.0000 + 0.0000i   0.0000 + 1.0000i   1.0000 + 0.0000i\n",
       "   0.0000 + 1.0000i   1.0000 + 1.0000i  -3.0000 + 0.0000i   0.0000 + 1.0000i   1.0000 + 1.0000i  -3.0000 + 0.0000i\n"
      ]
     },
     "execution_count": 37,
     "metadata": {},
     "output_type": "execute_result"
    }
   ],
   "source": [
    "V = repmat(M,2,2)"
   ]
  },
  {
   "cell_type": "markdown",
   "metadata": {},
   "source": [
    "**b)** Ordnen Sie die 4. Zeile der Matrix $V$ einem neuen Vektor ``z4`` zu."
   ]
  },
  {
   "cell_type": "code",
   "execution_count": 38,
   "metadata": {},
   "outputs": [
    {
     "data": {
      "text/html": [
       "<html><body><pre>z4 = 1x6 double\n",
       "     1     0     0     1     0     0\n",
       "</pre></body></html>"
      ],
      "text/plain": [
       "z4 = 1x6 double\n",
       "     1     0     0     1     0     0\n"
      ]
     },
     "execution_count": 38,
     "metadata": {},
     "output_type": "execute_result"
    }
   ],
   "source": [
    "z4 = V(4,:)"
   ]
  },
  {
   "cell_type": "markdown",
   "metadata": {},
   "source": [
    "**c)** Verändern Sie in Matrix $V$ den Eintrag ``V(4,2)`` zu $j + 5$."
   ]
  },
  {
   "cell_type": "code",
   "execution_count": 39,
   "metadata": {},
   "outputs": [
    {
     "data": {
      "text/html": [
       "<html><body><pre>V = \n",
       "   1.0000 + 0.0000i   0.0000 + 0.0000i   0.0000 + 0.0000i   1.0000 + 0.0000i   0.0000 + 0.0000i   0.0000 + 0.0000i\n",
       "   0.0000 + 0.0000i   0.0000 + 1.0000i   1.0000 + 0.0000i   0.0000 + 0.0000i   0.0000 + 1.0000i   1.0000 + 0.0000i\n",
       "   0.0000 + 1.0000i   1.0000 + 1.0000i  -3.0000 + 0.0000i   0.0000 + 1.0000i   1.0000 + 1.0000i  -3.0000 + 0.0000i\n",
       "   1.0000 + 0.0000i   5.0000 + 1.0000i   0.0000 + 0.0000i   1.0000 + 0.0000i   0.0000 + 0.0000i   0.0000 + 0.0000i\n",
       "   0.0000 + 0.0000i   0.0000 + 1.0000i   1.0000 + 0.0000i   0.0000 + 0.0000i   0.0000 + 1.0000i   1.0000 + 0.0000i\n",
       "   0.0000 + 1.0000i   1.0000 + 1.0000i  -3.0000 + 0.0000i   0.0000 + 1.0000i   1.0000 + 1.0000i  -3.0000 + 0.0000i\n",
       "</pre></body></html>"
      ],
      "text/plain": [
       "V = \n",
       "   1.0000 + 0.0000i   0.0000 + 0.0000i   0.0000 + 0.0000i   1.0000 + 0.0000i   0.0000 + 0.0000i   0.0000 + 0.0000i\n",
       "   0.0000 + 0.0000i   0.0000 + 1.0000i   1.0000 + 0.0000i   0.0000 + 0.0000i   0.0000 + 1.0000i   1.0000 + 0.0000i\n",
       "   0.0000 + 1.0000i   1.0000 + 1.0000i  -3.0000 + 0.0000i   0.0000 + 1.0000i   1.0000 + 1.0000i  -3.0000 + 0.0000i\n",
       "   1.0000 + 0.0000i   5.0000 + 1.0000i   0.0000 + 0.0000i   1.0000 + 0.0000i   0.0000 + 0.0000i   0.0000 + 0.0000i\n",
       "   0.0000 + 0.0000i   0.0000 + 1.0000i   1.0000 + 0.0000i   0.0000 + 0.0000i   0.0000 + 1.0000i   1.0000 + 0.0000i\n",
       "   0.0000 + 1.0000i   1.0000 + 1.0000i  -3.0000 + 0.0000i   0.0000 + 1.0000i   1.0000 + 1.0000i  -3.0000 + 0.0000i\n"
      ]
     },
     "execution_count": 39,
     "metadata": {},
     "output_type": "execute_result"
    }
   ],
   "source": [
    "V(4,2) = 5+j"
   ]
  },
  {
   "cell_type": "markdown",
   "metadata": {},
   "source": [
    "# Aufgabe 8"
   ]
  },
  {
   "cell_type": "markdown",
   "metadata": {},
   "source": [
    "**a)** Konstruieren Sie aus dem Vektor $ \\vec{r} = \\begin{pmatrix}j & j+1 & j-7 & j+1 & -3\\end{pmatrix} $ eine Matrix ``Nz``, bestehend aus 6 **Zeilen**, die jeweils $\\vec{r}$ enthalten."
   ]
  },
  {
   "cell_type": "code",
   "execution_count": 40,
   "metadata": {},
   "outputs": [
    {
     "data": {
      "text/html": [
       "<html><body><pre>Nz = \n",
       "   0.0000 + 1.0000i   1.0000 + 1.0000i  -7.0000 + 1.0000i   1.0000 + 1.0000i  -3.0000 + 0.0000i\n",
       "   0.0000 + 1.0000i   1.0000 + 1.0000i  -7.0000 + 1.0000i   1.0000 + 1.0000i  -3.0000 + 0.0000i\n",
       "   0.0000 + 1.0000i   1.0000 + 1.0000i  -7.0000 + 1.0000i   1.0000 + 1.0000i  -3.0000 + 0.0000i\n",
       "   0.0000 + 1.0000i   1.0000 + 1.0000i  -7.0000 + 1.0000i   1.0000 + 1.0000i  -3.0000 + 0.0000i\n",
       "   0.0000 + 1.0000i   1.0000 + 1.0000i  -7.0000 + 1.0000i   1.0000 + 1.0000i  -3.0000 + 0.0000i\n",
       "   0.0000 + 1.0000i   1.0000 + 1.0000i  -7.0000 + 1.0000i   1.0000 + 1.0000i  -3.0000 + 0.0000i\n",
       "</pre></body></html>"
      ],
      "text/plain": [
       "Nz = \n",
       "   0.0000 + 1.0000i   1.0000 + 1.0000i  -7.0000 + 1.0000i   1.0000 + 1.0000i  -3.0000 + 0.0000i\n",
       "   0.0000 + 1.0000i   1.0000 + 1.0000i  -7.0000 + 1.0000i   1.0000 + 1.0000i  -3.0000 + 0.0000i\n",
       "   0.0000 + 1.0000i   1.0000 + 1.0000i  -7.0000 + 1.0000i   1.0000 + 1.0000i  -3.0000 + 0.0000i\n",
       "   0.0000 + 1.0000i   1.0000 + 1.0000i  -7.0000 + 1.0000i   1.0000 + 1.0000i  -3.0000 + 0.0000i\n",
       "   0.0000 + 1.0000i   1.0000 + 1.0000i  -7.0000 + 1.0000i   1.0000 + 1.0000i  -3.0000 + 0.0000i\n",
       "   0.0000 + 1.0000i   1.0000 + 1.0000i  -7.0000 + 1.0000i   1.0000 + 1.0000i  -3.0000 + 0.0000i\n"
      ]
     },
     "execution_count": 40,
     "metadata": {},
     "output_type": "execute_result"
    }
   ],
   "source": [
    "clear all;\n",
    "r = [j, j+1, j-7, j+1, -3];\n",
    "\n",
    "Nz = repmat(r,6,1)"
   ]
  },
  {
   "cell_type": "markdown",
   "metadata": {},
   "source": [
    "**b)** und eine Matrix ``Ns``, bestehend aus 6 **Spalten**, die jeweils $\\vec{r}$ enthalten."
   ]
  },
  {
   "cell_type": "code",
   "execution_count": 41,
   "metadata": {},
   "outputs": [
    {
     "data": {
      "text/html": [
       "<html><body><pre>Ns = \n",
       "   0.0000 + 1.0000i   0.0000 + 1.0000i   0.0000 + 1.0000i   0.0000 + 1.0000i   0.0000 + 1.0000i   0.0000 + 1.0000i\n",
       "   1.0000 + 1.0000i   1.0000 + 1.0000i   1.0000 + 1.0000i   1.0000 + 1.0000i   1.0000 + 1.0000i   1.0000 + 1.0000i\n",
       "  -7.0000 + 1.0000i  -7.0000 + 1.0000i  -7.0000 + 1.0000i  -7.0000 + 1.0000i  -7.0000 + 1.0000i  -7.0000 + 1.0000i\n",
       "   1.0000 + 1.0000i   1.0000 + 1.0000i   1.0000 + 1.0000i   1.0000 + 1.0000i   1.0000 + 1.0000i   1.0000 + 1.0000i\n",
       "  -3.0000 + 0.0000i  -3.0000 + 0.0000i  -3.0000 + 0.0000i  -3.0000 + 0.0000i  -3.0000 + 0.0000i  -3.0000 + 0.0000i\n",
       "</pre></body></html>"
      ],
      "text/plain": [
       "Ns = \n",
       "   0.0000 + 1.0000i   0.0000 + 1.0000i   0.0000 + 1.0000i   0.0000 + 1.0000i   0.0000 + 1.0000i   0.0000 + 1.0000i\n",
       "   1.0000 + 1.0000i   1.0000 + 1.0000i   1.0000 + 1.0000i   1.0000 + 1.0000i   1.0000 + 1.0000i   1.0000 + 1.0000i\n",
       "  -7.0000 + 1.0000i  -7.0000 + 1.0000i  -7.0000 + 1.0000i  -7.0000 + 1.0000i  -7.0000 + 1.0000i  -7.0000 + 1.0000i\n",
       "   1.0000 + 1.0000i   1.0000 + 1.0000i   1.0000 + 1.0000i   1.0000 + 1.0000i   1.0000 + 1.0000i   1.0000 + 1.0000i\n",
       "  -3.0000 + 0.0000i  -3.0000 + 0.0000i  -3.0000 + 0.0000i  -3.0000 + 0.0000i  -3.0000 + 0.0000i  -3.0000 + 0.0000i\n"
      ]
     },
     "execution_count": 41,
     "metadata": {},
     "output_type": "execute_result"
    }
   ],
   "source": [
    "Ns = repmat(r.',1,6)"
   ]
  },
  {
   "cell_type": "markdown",
   "metadata": {},
   "source": [
    "# Aufgabe 9"
   ]
  },
  {
   "cell_type": "markdown",
   "metadata": {},
   "source": [
    "Belegen Sie die 5. Zeile der Matrix $V$ aus Aufgabe 7 mithilfe des Workspace-Browsers mit Nullen."
   ]
  },
  {
   "cell_type": "markdown",
   "metadata": {},
   "source": [
    "# Aufgabe 10"
   ]
  },
  {
   "cell_type": "markdown",
   "metadata": {},
   "source": [
    "Berechnen Sie das Skalarprodukt der Vektoren\n",
    "$ \\vec{x} = \\begin{pmatrix}1 & 2 & 0.5 & -3 & 1\\end{pmatrix}$ und $ \\vec{y} = \\begin{pmatrix}2 & 0 & -3 & \\frac{1}{3} & 2\\end{pmatrix}$\n",
    "mithilfe einer Matrix-Operation und mithilfe einer Feld-Operation (``.`` Operator)."
   ]
  },
  {
   "cell_type": "code",
   "execution_count": 42,
   "metadata": {},
   "outputs": [
    {
     "data": {
      "text/html": [
       "<html><body><pre>x = 1x5 double\n",
       "    1.0000    2.0000    0.5000   -3.0000   -1.0000\n",
       "</pre></body></html>"
      ],
      "text/plain": [
       "x = 1x5 double\n",
       "    1.0000    2.0000    0.5000   -3.0000   -1.0000\n"
      ]
     },
     "execution_count": 42,
     "metadata": {},
     "output_type": "execute_result"
    },
    {
     "data": {
      "text/html": [
       "<html><body><pre>y = 1x5 double\n",
       "    2.0000         0   -3.0000    0.3333    2.0000\n",
       "</pre></body></html>"
      ],
      "text/plain": [
       "y = 1x5 double\n",
       "    2.0000         0   -3.0000    0.3333    2.0000\n"
      ]
     },
     "execution_count": 42,
     "metadata": {},
     "output_type": "execute_result"
    },
    {
     "data": {
      "text/html": [
       "<html><body><pre>ans = -2.5000</pre></body></html>"
      ],
      "text/plain": [
       "ans = -2.5000"
      ]
     },
     "execution_count": 42,
     "metadata": {},
     "output_type": "execute_result"
    },
    {
     "data": {
      "text/html": [
       "<html><body><pre>ans = -2.5000</pre></body></html>"
      ],
      "text/plain": [
       "ans = -2.5000"
      ]
     },
     "execution_count": 42,
     "metadata": {},
     "output_type": "execute_result"
    }
   ],
   "source": [
    "x = [1 2 .5 -3 -1]\n",
    "y = [2 0 -3 1/3 2]\n",
    "\n",
    "dot(x,y)\n",
    "\n",
    "sum(x.*y)"
   ]
  },
  {
   "cell_type": "markdown",
   "metadata": {},
   "source": [
    "# Aufgabe 11"
   ]
  },
  {
   "cell_type": "markdown",
   "metadata": {},
   "source": [
    "Berechnen Sie das Produkt der beiden Matrizen $A$ und $B$ durch ``A*B`` und durch ``A.*B``. Wo ist der Unterschied?\n",
    "$$A = \\begin{pmatrix}-1 & 3.5 & 2\\\\0 & 1 & -1.3\\\\1.1 & 2 & 1.9\\end{pmatrix} \\qquad B = \\begin{pmatrix}1 & 0 & -1\\\\-1.5 & 1.5 & -3\\\\1 & 1 & 1\\end{pmatrix}$$"
   ]
  },
  {
   "cell_type": "code",
   "execution_count": 44,
   "metadata": {},
   "outputs": [
    {
     "data": {
      "text/html": [
       "<html><body><pre>ans = 3x3 double\n",
       "   -4.2500    7.2500   -7.5000\n",
       "   -2.8000    0.2000   -4.3000\n",
       "         0    4.9000   -5.2000\n",
       "</pre></body></html>"
      ],
      "text/plain": [
       "ans = 3x3 double\n",
       "   -4.2500    7.2500   -7.5000\n",
       "   -2.8000    0.2000   -4.3000\n",
       "         0    4.9000   -5.2000\n"
      ]
     },
     "execution_count": 44,
     "metadata": {},
     "output_type": "execute_result"
    },
    {
     "data": {
      "text/html": [
       "<html><body><pre>ans = 3x3 double\n",
       "   -1.0000         0   -2.0000\n",
       "         0    1.5000    3.9000\n",
       "    1.1000    2.0000    1.9000\n",
       "</pre></body></html>"
      ],
      "text/plain": [
       "ans = 3x3 double\n",
       "   -1.0000         0   -2.0000\n",
       "         0    1.5000    3.9000\n",
       "    1.1000    2.0000    1.9000\n"
      ]
     },
     "execution_count": 44,
     "metadata": {},
     "output_type": "execute_result"
    }
   ],
   "source": [
    "A = [[-1 3.5 2];[0 1 -1.3];[1.1 2 1.9]];\n",
    "B = [[1 0 -1];[-1.5 1.5 -3];[1 1 1]];\n",
    "\n",
    "% matrix multiplication\n",
    "A*B\n",
    "\n",
    "% component-wise multiplication. returns new matrix of same (input) size\n",
    "A.*B"
   ]
  },
  {
   "cell_type": "markdown",
   "metadata": {},
   "source": [
    "# Aufgabe 12"
   ]
  },
  {
   "cell_type": "markdown",
   "metadata": {},
   "source": [
    "Berechnen Sie, ausgehend von der Zeitvariablen $t$ (Vektor) mit Zeitwerten zwischen 0 und 10 im Abstand von 0.1 die Werte der Variablen s, die sich aus der Funktion\n",
    "$$s(t) = \\sin(2\\pi 5t)\\cos(2\\pi 3t) + e^{-0.1t}$$\n",
    "ergeben."
   ]
  },
  {
   "cell_type": "code",
   "execution_count": 48,
   "metadata": {},
   "outputs": [
    {
     "data": {
      "text/html": [
       "<html><body><pre>s = 1x101 double\n",
       "     1.0000e+000   990.0498e-003   980.1987e-003   970.4455e-003   960.7894e-003   951.2294e-003   941.7645e-003   932.3938e-003   923.1163e-003   913.9312e-003   904.8374e-003   895.8341e-003   886.9204e-003   878.0954e-003   869.3582e-003   860.7080e-003   852.1438e-003   843.6648e-003   835.2702e-003   826.9591e-003   818.7308e-003   810.5842e-003   802.5188e-003   794.5336e-003   786.6279e-003   778.8008e-003   771.0516e-003   763.3795e-003   755.7837e-003   748.2636e-003\n",
       "...</pre></body></html>"
      ],
      "text/plain": [
       "s = 1x101 double\n",
       "     1.0000e+000   990.0498e-003   980.1987e-003   970.4455e-003   960.7894e-003   951.2294e-003   941.7645e-003   932.3938e-003   923.1163e-003   913.9312e-003   904.8374e-003   895.8341e-003   886.9204e-003   878.0954e-003   869.3582e-003   860.7080e-003   852.1438e-003   843.6648e-003   835.2702e-003   826.9591e-003   818.7308e-003   810.5842e-003   802.5188e-003   794.5336e-003   786.6279e-003   778.8008e-003   771.0516e-003   763.3795e-003   755.7837e-003   748.2636e-003\n",
       "..."
      ]
     },
     "execution_count": 48,
     "metadata": {},
     "output_type": "execute_result"
    }
   ],
   "source": [
    "clear all;\n",
    "t = linspace(0,10,101);\n",
    "format shortEng\n",
    "s = (sin(2*pi*5*t).*cos(2*pi*3*t))+exp(-0.1*t)"
   ]
  },
  {
   "cell_type": "markdown",
   "metadata": {},
   "source": [
    "# Aufgabe 13"
   ]
  },
  {
   "cell_type": "markdown",
   "metadata": {},
   "source": [
    "Berechnen Sie für den Zeitvektor aus Aufg. 12 die Werte der Funktion $$s(t) = \\sin^2(2\\pi 5.3t)$$"
   ]
  },
  {
   "cell_type": "code",
   "execution_count": 49,
   "metadata": {},
   "outputs": [
    {
     "data": {
      "text/html": [
       "<html><body><pre>s = 1x101 double\n",
       "     0.0000e+000    35.1118e-003   135.5157e-003   287.1104e-003   468.6047e-003   654.5085e-003   818.7120e-003   938.1533e-003   996.0574e-003   984.2916e-003   904.5085e-003   767.9134e-003   593.6907e-003   406.3093e-003   232.0866e-003    95.4915e-003    15.7084e-003     3.9426e-003    61.8467e-003   181.2880e-003   345.4915e-003   531.3953e-003   712.8896e-003   864.4843e-003   964.8882e-003     1.0000e+000   964.8882e-003   864.4843e-003   712.8896e-003   531.3953e-003\n",
       "...</pre></body></html>"
      ],
      "text/plain": [
       "s = 1x101 double\n",
       "     0.0000e+000    35.1118e-003   135.5157e-003   287.1104e-003   468.6047e-003   654.5085e-003   818.7120e-003   938.1533e-003   996.0574e-003   984.2916e-003   904.5085e-003   767.9134e-003   593.6907e-003   406.3093e-003   232.0866e-003    95.4915e-003    15.7084e-003     3.9426e-003    61.8467e-003   181.2880e-003   345.4915e-003   531.3953e-003   712.8896e-003   864.4843e-003   964.8882e-003     1.0000e+000   964.8882e-003   864.4843e-003   712.8896e-003   531.3953e-003\n",
       "..."
      ]
     },
     "execution_count": 49,
     "metadata": {},
     "output_type": "execute_result"
    }
   ],
   "source": [
    "clear all;\n",
    "t = linspace(0,10,101);\n",
    "s = sin(2*pi*5.3*t).^2"
   ]
  },
  {
   "cell_type": "markdown",
   "metadata": {},
   "source": [
    "# Aufgabe 14"
   ]
  },
  {
   "cell_type": "markdown",
   "metadata": {},
   "source": [
    "Berechnen Sie mit den passenden mathematischen MATLAB-Funktionen für den Vektor\n",
    "$$\\vec{x} = \\begin{pmatrix}1024 & 1000 & 100 & 2 & 1\\end{pmatrix}$$\n",
    "die entsprechenden Vektoren der Zweier- und Zehnerlogarithmen."
   ]
  },
  {
   "cell_type": "code",
   "execution_count": 51,
   "metadata": {},
   "outputs": [
    {
     "data": {
      "text/html": [
       "<html><body><pre>two = 1x5 double\n",
       "    10.0000e+000     9.9658e+000     6.6439e+000     1.0000e+000     0.0000e+000\n",
       "</pre></body></html>"
      ],
      "text/plain": [
       "two = 1x5 double\n",
       "    10.0000e+000     9.9658e+000     6.6439e+000     1.0000e+000     0.0000e+000\n"
      ]
     },
     "execution_count": 51,
     "metadata": {},
     "output_type": "execute_result"
    },
    {
     "data": {
      "text/html": [
       "<html><body><pre>ten = 1x5 double\n",
       "     3.0103e+000     3.0000e+000     2.0000e+000   301.0300e-003     0.0000e+000\n",
       "</pre></body></html>"
      ],
      "text/plain": [
       "ten = 1x5 double\n",
       "     3.0103e+000     3.0000e+000     2.0000e+000   301.0300e-003     0.0000e+000\n"
      ]
     },
     "execution_count": 51,
     "metadata": {},
     "output_type": "execute_result"
    }
   ],
   "source": [
    "clear all;\n",
    "b = [1024 1000 100 2 1];\n",
    "\n",
    "two = log2(b)\n",
    "ten = log10(b)"
   ]
  }
 ],
 "metadata": {
  "kernelspec": {
   "display_name": "MATLAB Kernel",
   "language": "matlab",
   "name": "jupyter_matlab_kernel"
  },
  "language_info": {
   "file_extension": ".m",
   "mimetype": "text/x-matlab",
   "name": "matlab"
  }
 },
 "nbformat": 4,
 "nbformat_minor": 4
}
